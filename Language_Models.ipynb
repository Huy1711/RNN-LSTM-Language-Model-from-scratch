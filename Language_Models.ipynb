{
  "nbformat": 4,
  "nbformat_minor": 0,
  "metadata": {
    "colab": {
      "name": "Assignment 01 Word Embedding and Language Models.ipynb",
      "provenance": [],
      "collapsed_sections": [
        "BintR5QEhbML"
      ]
    },
    "kernelspec": {
      "display_name": "Python 3",
      "language": "python",
      "name": "python3"
    },
    "language_info": {
      "codemirror_mode": {
        "name": "ipython",
        "version": 3
      },
      "file_extension": ".py",
      "mimetype": "text/x-python",
      "name": "python",
      "nbconvert_exporter": "python",
      "pygments_lexer": "ipython3",
      "version": "3.7.6"
    },
    "accelerator": "GPU"
  },
  "cells": [
    {
      "cell_type": "markdown",
      "metadata": {
        "id": "PanzxhVXhbMD"
      },
      "source": [
        "## Introduction\n",
        "In this assignment, you will learn how to build a language model from scratch and use the model to generate new text.\n",
        "You will also see how training a language model helps you learn word representation.\n",
        "\n",
        "Note: \n",
        "- Plagiarism will result in 0 mark.\n",
        "- The following template shows how your code should look like. You are free to add more functions, change the parameters. You are not allowed to use existing implementations.\n"
      ]
    },
    {
      "cell_type": "code",
      "metadata": {
        "id": "oBfeQLRQhbMI",
        "colab": {
          "base_uri": "https://localhost:8080/"
        },
        "outputId": "e60a5139-2686-4e9e-e3f1-4c570a60cdc5"
      },
      "source": [
        "import torch\n",
        "import torch.nn as nn\n",
        "import torch.autograd as ag\n",
        "import numpy as np\n",
        "from matplotlib import pyplot as plt\n",
        "import math \n",
        "\n",
        "device = torch.device(\"cuda:0\" if torch.cuda.is_available() else \"cpu\")\n",
        "print(device)"
      ],
      "execution_count": 1,
      "outputs": [
        {
          "output_type": "stream",
          "name": "stdout",
          "text": [
            "cpu\n"
          ]
        }
      ]
    },
    {
      "cell_type": "markdown",
      "metadata": {
        "id": "tREmxGdthbMK"
      },
      "source": [
        "## Recurrent Neural Network (5 points)\n",
        "To begin, you have to implement the vanila RNN in Pytorch."
      ]
    },
    {
      "cell_type": "markdown",
      "metadata": {
        "id": "cOIuQLXaGkaA"
      },
      "source": [
        "### Vanila RNN\n",
        "Recall the formula for vanila RNN:\n",
        "        \\begin{eqnarray}\n",
        "        h_t & = & \\sigma(W_h h_{t-1} + W_x x_t + b_1) \\\\\n",
        "        y_t & = & \\phi(W_y h_t + b_2)\n",
        "        \\end{eqnarray}\n",
        "where $\\sigma$ is the usually the sigmoid activation function and $\\phi$ is usually the softmax function.\n",
        "\n",
        "Hints:\n",
        "For RNNLM, the input is a squence of word_id, e.g. [10, 8, 5, 2, 101, 23]. You have to convert each word_id to an embedding vector. To implement this, you can use the `torch.nn.Embedding` class."
      ]
    },
    {
      "cell_type": "code",
      "metadata": {
        "id": "jS19GEnShbMK"
      },
      "source": [
        "class VanilaRNNLM(nn.Module):\n",
        "    def __init__(self, n_inputs, n_hiddens, n_outputs, vocab, sigma='sigmoid', phi='softmax'):\n",
        "        \"\"\"\n",
        "        Construct a vanila RNN. \n",
        "        \n",
        "        Params:\n",
        "        n_inputs: number of input neurons = embedding_dim\n",
        "        n_hiddens: number of hidden neurons \n",
        "        n_outputs: number of output neurons = vocab_size\n",
        "        vocab: a dictionary of the form {word: word_id}\n",
        "        sigma: activation function for hidden layer\n",
        "        phi: output function\n",
        "        \"\"\"\n",
        "        super(VanilaRNNLM, self).__init__()\n",
        "\n",
        "        self.embeddings = nn.Embedding(n_outputs, n_inputs)\n",
        "        self.n_hiddens = n_hiddens\n",
        "        self.vocab = vocab\n",
        "\n",
        "        self.W_e = nn.Parameter(torch.Tensor(n_inputs, n_hiddens).to(device))\n",
        "        self.W_h = nn.Parameter(torch.Tensor(n_hiddens, n_hiddens).to(device))\n",
        "        self.b1 = nn.Parameter(torch.zeros(1, n_hiddens).to(device))\n",
        "        \n",
        "        self.W_y = nn.Parameter(torch.Tensor(n_hiddens, n_outputs).to(device))\n",
        "        self.b2 = nn.Parameter(torch.zeros(1, n_outputs))\n",
        "\n",
        "        # initialize weights\n",
        "        nn.init.uniform_(self.embeddings.weight, -1.0, 1.0)\n",
        "        nn.init.xavier_normal_(self.W_e)\n",
        "        nn.init.xavier_normal_(self.W_h)\n",
        "        nn.init.xavier_normal_(self.W_y)\n",
        "\n",
        "    \n",
        "    def forward(self, xs, h0):\n",
        "        \"\"\"\n",
        "        Params:\n",
        "        xs: the input sequence [x_1, x_2, ..., x_n]. x_i is the id of the i-th word in the sequence. \n",
        "            For example, xs = [1, 3, 11, 6, 8, 2]\n",
        "        h0: the initial hidden state\n",
        "        \n",
        "        Returns: (ys, hs) where\n",
        "        ys = [y_1, y_2, ..., y_n] and\n",
        "        hs = [h_1, h_2, ..., h_n]\n",
        "        \"\"\"\n",
        "        # embedded sequence [e_1, e_2, ..., e_n]    n x embedding_dim\n",
        "        es = self.embeddings(xs)  \n",
        "        #.view((1, -1))\n",
        "\n",
        "        Time_steps = len(es)\n",
        "        hs = []\n",
        "        ys = []\n",
        "\n",
        "        for t in range(Time_steps):\n",
        "          if (t==0):\n",
        "            # h_1 = sigmoid(W_h * h0 + W_e * e_1 + b1)  \n",
        "            h_t = torch.matmul(h0, self.W_h) + torch.matmul(es[t], self.W_e)  + self.b1\n",
        "            h_t = torch.sigmoid(h_t)\n",
        "            hs.append(h_t)\n",
        "          else:\n",
        "            # h_t = sigmoid(W_h * h_(t-1) + W_e * e_t + b1)  \n",
        "            h_t = torch.matmul(hs[t-1], self.W_h) + torch.matmul(es[t], self.W_e)  + self.b1\n",
        "            h_t = torch.sigmoid(h_t)\n",
        "            hs.append(h_t)\n",
        "          # y_t = softmax(W_y * h_t + b2)\n",
        "          y_t = torch.matmul(hs[t], self.W_y) + self.b2\n",
        "          ys.append(y_t)\n",
        "\n",
        "        return ys, hs\n",
        "        "
      ],
      "execution_count": 2,
      "outputs": []
    },
    {
      "cell_type": "markdown",
      "metadata": {
        "id": "BintR5QEhbML"
      },
      "source": [
        "### Fancy RNN\n",
        "Vanila RNN suffers from the gradient vanishing/exploding problem. Your next task is to implement a more sophisticated RNN that is more robust to gradient vanishing/exploding.\n",
        "\n",
        "By reducing the vanishing gradient problem, the LSTM architecture makes it easier for the RNN to preserve information from many previous timesteps. So that the LSTM can learn long-distance dependencies.\n",
        "\n",
        "$$ f^{(t)} = \\sigma(W_f h^{(t-1)} + U_f x^{(t)} + b_f) $$\n",
        "$$ i^{(t)} = \\sigma(W_i h^{(t-1)} + U_i x^{(t)} + b_i) $$\n",
        "$$ o^{(t)} = \\sigma(W_o h^{(t-1)} + U_o x^{(t)} + b_o) $$\n",
        "\n",
        "$$ g^{(t)} = \\tanh(W_c h^{(t-1)} + U_c x^{(t)} + b_c) $$\n",
        "$$ c^{(t)} = f^{(t)} \\odot c^{(t-1)} + i^{(t)} \\odot \\tilde{c}^{(t)} $$\n",
        "$$ h^{(t)} = o^{(t)} \\odot \\tanh c^{(t)} $$"
      ]
    },
    {
      "cell_type": "code",
      "metadata": {
        "id": "bIZL3TLXhbML"
      },
      "source": [
        "class FancyRNNLM(nn.Module):\n",
        "    def __init__(self, n_inputs, n_hiddens, n_outputs, n_layers, vocab, sigma='sigmoid', phi='softmax'):\n",
        "        \"\"\"\n",
        "        Construct a fancy RNN, this could be LSTM, GRU, or your own invention.\n",
        "        \n",
        "        Params:\n",
        "        n_inputs: number of input neurons\n",
        "        n_hiddens: number of hidden neurons\n",
        "        n_outputs: number of output neurons\n",
        "        vocab: a dictionary {word: word_id}\n",
        "        sigma: activation function for hidden layer\n",
        "        phi: output function\n",
        "        \"\"\"\n",
        "        super(FancyRNNLM, self).__init__()\n",
        "\n",
        "        self.embeddings = nn.Embedding(n_outputs, n_inputs)\n",
        "        self.n_hiddens = n_hiddens\n",
        "        self.vocab = vocab\n",
        "\n",
        "        self.W_f = nn.Parameter(torch.Tensor(n_hiddens, n_hiddens).to(device))\n",
        "        self.U_f = nn.Parameter(torch.Tensor(n_inputs, n_hiddens).to(device))\n",
        "        self.b_f = nn.Parameter(torch.zeros(1, n_hiddens).to(device))\n",
        "        \n",
        "        self.W_i = nn.Parameter(torch.Tensor(n_hiddens, n_hiddens).to(device))\n",
        "        self.U_i = nn.Parameter(torch.Tensor(n_inputs, n_hiddens).to(device))\n",
        "        self.b_i = nn.Parameter(torch.zeros(1, n_hiddens).to(device))\n",
        "\n",
        "        self.W_o = nn.Parameter(torch.Tensor(n_hiddens, n_hiddens).to(device))\n",
        "        self.U_o = nn.Parameter(torch.Tensor(n_inputs, n_hiddens).to(device))\n",
        "        self.b_o = nn.Parameter(torch.zeros(1, n_hiddens).to(device))\n",
        "\n",
        "        self.W_g = nn.Parameter(torch.Tensor(n_hiddens, n_hiddens).to(device))\n",
        "        self.U_g = nn.Parameter(torch.Tensor(n_inputs, n_hiddens).to(device))\n",
        "        self.b_g = nn.Parameter(torch.zeros(1, n_hiddens).to(device))\n",
        "\n",
        "        self.fc = nn.Linear(n_hiddens, n_outputs)\n",
        "\n",
        "        # initialize weights\n",
        "        nn.init.uniform_(self.embeddings.weight, -1.0, 1.0)\n",
        "        nn.init.xavier_normal_(self.W_f)\n",
        "        nn.init.xavier_normal_(self.U_f)\n",
        "        nn.init.xavier_normal_(self.W_i)\n",
        "        nn.init.xavier_normal_(self.U_i)\n",
        "        nn.init.xavier_normal_(self.W_o)\n",
        "        nn.init.xavier_normal_(self.U_o)\n",
        "        nn.init.xavier_normal_(self.W_g)\n",
        "        nn.init.xavier_normal_(self.U_g)\n",
        "\n",
        "    def forward(self, xs, h0):\n",
        "\n",
        "        es = self.embeddings(xs)  \n",
        "\n",
        "        Time_steps = len(es)\n",
        "        cs = []\n",
        "        hs = []\n",
        "        ys = []\n",
        "        c0 = torch.zeros(1, self.n_hiddens).to(device)\n",
        "\n",
        "        for t in range(Time_steps):\n",
        "          if (t==0):\n",
        "            f_t = torch.sigmoid(torch.matmul(h0, self.W_f) + torch.matmul(es[t], self.U_f)  + self.b_f)\n",
        "            i_t = torch.sigmoid(torch.matmul(h0, self.W_i) + torch.matmul(es[t], self.U_i)  + self.b_i)\n",
        "            o_t = torch.sigmoid(torch.matmul(h0, self.W_o) + torch.matmul(es[t], self.U_o)  + self.b_o)\n",
        "            # g_t = tanh(W_g * h_(t-1) + U_g * e_t + b_g) \n",
        "            g_t = torch.tanh(torch.matmul(h0, self.W_g) + torch.matmul(es[t], self.U_g)  + self.b_g)\n",
        "            c_t = f_t * c0 + i_t * g_t\n",
        "            cs.append(c_t)\n",
        "            h_t = o_t * torch.tanh(c_t)\n",
        "            hs.append(h_t)\n",
        "          else:\n",
        "            # f_t = sigmoid(W_f * h_(t-1) + W_f * e_t + b_f)  \n",
        "            f_t = torch.sigmoid(torch.matmul(hs[t-1], self.W_f) + torch.matmul(es[t], self.U_f)  + self.b_f)\n",
        "            i_t = torch.sigmoid(torch.matmul(hs[t-1], self.W_i) + torch.matmul(es[t], self.U_i)  + self.b_i)\n",
        "            o_t = torch.sigmoid(torch.matmul(hs[t-1], self.W_o) + torch.matmul(es[t], self.U_o)  + self.b_o)\n",
        "            # g_t = tanh(W_g * h_(t-1) + U_g * e_t + b_g) \n",
        "            g_t = torch.tanh(torch.matmul(hs[t-1], self.W_g) + torch.matmul(es[t], self.U_g)  + self.b_g)\n",
        "            c_t = f_t * cs[t-1] + i_t * g_t\n",
        "            cs.append(c_t)\n",
        "            h_t = o_t * torch.tanh(c_t)\n",
        "            hs.append(h_t)\n",
        "          y_t = self.fc(h_t)\n",
        "          ys.append(y_t)\n",
        "\n",
        "        return ys, hs"
      ],
      "execution_count": 3,
      "outputs": []
    },
    {
      "cell_type": "markdown",
      "metadata": {
        "id": "BdZzai2vhbMN"
      },
      "source": [
        "## Language Modeling with RNN (4 points)\n",
        "The next step is to use our RNNs in some real world tasks. One of the most common application of RNN is language modeling.\n",
        "\n",
        "### Data\n",
        "For this assignment, we will use text data from Wikipedia. To start, download the data from this website:\n",
        "\n",
        "https://s3.amazonaws.com/research.metamind.io/wikitext/wikitext-103-v1.zip\n",
        "\n",
        "Some information about this dataset can be found here:\n",
        "\n",
        "https://blog.einstein.ai/the-wikitext-long-term-dependency-language-modeling-dataset/\n",
        "\n"
      ]
    },
    {
      "cell_type": "code",
      "metadata": {
        "id": "fKd3ycYoUndO"
      },
      "source": [
        "from zipfile import ZipFile\n",
        "\n",
        "# download the data\n",
        "!wget https://s3.amazonaws.com/research.metamind.io/wikitext/wikitext-103-v1.zip -P \"/content/\"\n",
        "\n",
        "with ZipFile('/content/wikitext-103-v1.zip', 'r') as zip:\n",
        "    # printing all the contents of the zip file\n",
        "    zip.printdir()\n",
        "  \n",
        "    # extracting all the files\n",
        "    print('Extracting all the files now...')\n",
        "    zip.extractall()\n",
        "    print('Done!')"
      ],
      "execution_count": null,
      "outputs": []
    },
    {
      "cell_type": "code",
      "metadata": {
        "id": "Wicr2If_hOSk"
      },
      "source": [
        "from pathlib import Path\n",
        "import re\n",
        "\n",
        "train_data = Path('/content/wikitext-103/wiki.test.tokens').read_text()"
      ],
      "execution_count": 31,
      "outputs": []
    },
    {
      "cell_type": "markdown",
      "metadata": {
        "id": "H6wseHx2se59"
      },
      "source": [
        "### Preprocess Data"
      ]
    },
    {
      "cell_type": "code",
      "metadata": {
        "id": "MSzE17_GI3xj",
        "colab": {
          "base_uri": "https://localhost:8080/"
        },
        "outputId": "5d96c4fe-7c2f-4e0a-f304-07d88738553f"
      },
      "source": [
        "# Divide heading and article of training set\n",
        "heading_pattern = '( \\n \\n = [^=]*[^=] = \\n \\n )'\n",
        "breakline = ' \\n'\n",
        "train_data = breakline + train_data\n",
        "train_split = re.split(heading_pattern, train_data)\n",
        "train_headings = [x for x in train_split[1::2]]\n",
        "train_articles = [x for x in train_split[2::2]]\n",
        "\n",
        "print(train_headings[0])\n",
        "print(train_articles[0][:100])\n",
        "print(len(train_articles))"
      ],
      "execution_count": 32,
      "outputs": [
        {
          "output_type": "stream",
          "name": "stdout",
          "text": [
            " \n",
            " \n",
            " = Robert Boulter = \n",
            " \n",
            " \n",
            "Robert Boulter is an English film , television and theatre actor . He had a guest @-@ starring role \n",
            "60\n"
          ]
        }
      ]
    },
    {
      "cell_type": "code",
      "metadata": {
        "id": "tP_PdNILHFRb",
        "colab": {
          "base_uri": "https://localhost:8080/"
        },
        "outputId": "8726ea0a-5d04-42fd-9f3e-438c24c4a29e"
      },
      "source": [
        "# tokenization + lowercasing\n",
        "train_articles_token = [article.lower().split() for article in train_articles]\n",
        "\n",
        "print(train_articles_token[0][:10]) "
      ],
      "execution_count": 33,
      "outputs": [
        {
          "output_type": "stream",
          "name": "stdout",
          "text": [
            "['robert', 'boulter', 'is', 'an', 'english', 'film', ',', 'television', 'and', 'theatre']\n"
          ]
        }
      ]
    },
    {
      "cell_type": "code",
      "metadata": {
        "id": "asVJwAdaywel",
        "colab": {
          "base_uri": "https://localhost:8080/"
        },
        "outputId": "ee4db6da-17b0-41d1-f3f7-1dcb71c31241"
      },
      "source": [
        "# create vocabulary\n",
        "vocabulary = []\n",
        "for sentence in train_articles_token:\n",
        "  for token in sentence:\n",
        "    if token not in vocabulary:\n",
        "      vocabulary.append(token)\n",
        "\n",
        "# word2id and id2word dictionaries\n",
        "word2id = {w: id for (id, w) in enumerate(vocabulary)}\n",
        "id2word = {id: w for (id, w) in enumerate(vocabulary)}\n",
        "\n",
        "for iter in range(10):\n",
        "  print(str(iter) + ':' + id2word[iter])"
      ],
      "execution_count": 34,
      "outputs": [
        {
          "output_type": "stream",
          "name": "stdout",
          "text": [
            "0:robert\n",
            "1:boulter\n",
            "2:is\n",
            "3:an\n",
            "4:english\n",
            "5:film\n",
            "6:,\n",
            "7:television\n",
            "8:and\n",
            "9:theatre\n"
          ]
        }
      ]
    },
    {
      "cell_type": "code",
      "metadata": {
        "id": "FGZZoPxx_0QZ",
        "colab": {
          "base_uri": "https://localhost:8080/"
        },
        "outputId": "b6540138-58b0-4b8f-e513-6a77ff70df72"
      },
      "source": [
        "# create corpus\n",
        "corpus = []\n",
        "\n",
        "for article in train_articles:\n",
        "  sentences = article.lower().split(\" . \")\n",
        "  for sentence in sentences:\n",
        "    if (len(sentence) > 1):\n",
        "      corpus.append(sentence)\n",
        "\n",
        "corpus_to_id = []\n",
        "\n",
        "for sentence in corpus:\n",
        "  tokens_id = []\n",
        "  sentence_to_tokens = sentence.split()\n",
        "  for token in sentence_to_tokens:\n",
        "    token_id = word2id[token]\n",
        "    tokens_id.append(token_id)\n",
        "  if (len(tokens_id) > 1):\n",
        "    corpus_to_id.append(tokens_id)\n",
        "\n",
        "print(corpus[0])\n",
        "print(corpus_to_id[0])\n",
        "print(len(corpus_to_id))"
      ],
      "execution_count": 35,
      "outputs": [
        {
          "output_type": "stream",
          "name": "stdout",
          "text": [
            "robert boulter is an english film , television and theatre actor\n",
            "[0, 1, 2, 3, 4, 5, 6, 7, 8, 9, 10]\n",
            "8927\n"
          ]
        }
      ]
    },
    {
      "cell_type": "code",
      "metadata": {
        "id": "NvnzMZkd-FFL"
      },
      "source": [
        "corpus2 = corpus_to_id[:500]"
      ],
      "execution_count": 51,
      "outputs": []
    },
    {
      "cell_type": "markdown",
      "metadata": {
        "id": "yLQnfaaqhbMO"
      },
      "source": [
        "### Training a LM with RNN\n",
        "Write the code to train RNNLMs with the VanilaRNNLM and FancyRNNLM classes above. Train 1 instance of VanilaRNNLM and 1 instance of FancyRNNLM"
      ]
    },
    {
      "cell_type": "code",
      "metadata": {
        "id": "WFCzSIhVrbul",
        "colab": {
          "base_uri": "https://localhost:8080/"
        },
        "outputId": "44b008bf-b45b-45cc-9cf6-cec747c30b7f"
      },
      "source": [
        "vocab_size = len(word2id)\n",
        "embedding_dim = 12    # 24\n",
        "\n",
        "input_size = embedding_dim\n",
        "hidden_size = 128\n",
        "output_size = vocab_size\n",
        "\n",
        "print(vocab_size)"
      ],
      "execution_count": 37,
      "outputs": [
        {
          "output_type": "stream",
          "name": "stdout",
          "text": [
            "17555\n"
          ]
        }
      ]
    },
    {
      "cell_type": "code",
      "metadata": {
        "id": "HxbDIphOq-Nb",
        "colab": {
          "base_uri": "https://localhost:8080/"
        },
        "outputId": "33b94a6b-7998-4e1b-cb9c-064d7475fa5e"
      },
      "source": [
        "vanila_rnn = VanilaRNNLM(n_inputs=input_size, n_hiddens=hidden_size, n_outputs=output_size, vocab=word2id)\n",
        "vanila_rnn = vanila_rnn.to(device)\n",
        "for name, param in vanila_rnn.named_parameters():  \n",
        "  print(name, param.shape)"
      ],
      "execution_count": 49,
      "outputs": [
        {
          "output_type": "stream",
          "name": "stdout",
          "text": [
            "W_e torch.Size([12, 128])\n",
            "W_h torch.Size([128, 128])\n",
            "b1 torch.Size([1, 128])\n",
            "W_y torch.Size([128, 17555])\n",
            "b2 torch.Size([1, 17555])\n",
            "embeddings.weight torch.Size([17555, 12])\n"
          ]
        }
      ]
    },
    {
      "cell_type": "code",
      "metadata": {
        "id": "sLGTWYSSNEgw",
        "colab": {
          "base_uri": "https://localhost:8080/"
        },
        "outputId": "51e5d74c-b5f9-4ed9-9436-3ce1d2d2bb9b"
      },
      "source": [
        "fancy_rnn = FancyRNNLM(n_inputs=input_size, n_hiddens=hidden_size, n_outputs=output_size, n_layers=1, vocab=word2id)\n",
        "fancy_rnn = fancy_rnn.to(device)\n",
        "for name, param in fancy_rnn.named_parameters():  \n",
        "  print(name, param.shape)"
      ],
      "execution_count": 50,
      "outputs": [
        {
          "output_type": "stream",
          "name": "stdout",
          "text": [
            "W_f torch.Size([128, 128])\n",
            "U_f torch.Size([12, 128])\n",
            "b_f torch.Size([1, 128])\n",
            "W_i torch.Size([128, 128])\n",
            "U_i torch.Size([12, 128])\n",
            "b_i torch.Size([1, 128])\n",
            "W_o torch.Size([128, 128])\n",
            "U_o torch.Size([12, 128])\n",
            "b_o torch.Size([1, 128])\n",
            "W_g torch.Size([128, 128])\n",
            "U_g torch.Size([12, 128])\n",
            "b_g torch.Size([1, 128])\n",
            "embeddings.weight torch.Size([17555, 12])\n",
            "fc.weight torch.Size([17555, 128])\n",
            "fc.bias torch.Size([17555])\n"
          ]
        }
      ]
    },
    {
      "cell_type": "code",
      "metadata": {
        "id": "yVd6aT0_hbMP"
      },
      "source": [
        "import torch.optim as optim\n",
        "\n",
        "def train_rnnlm(corpus, rnnlm, **train_params):\n",
        "    \"\"\"\n",
        "    Params:\n",
        "    corpus: the text corpus\n",
        "    rnnlm: the RNN\n",
        "    train_params: other parameters, e.g. learning rate, batch size, number of GPUs, ...\n",
        "    \"\"\"\n",
        "    num_epochs = 25\n",
        "    print_everywhere = 100\n",
        "    count = 0\n",
        "    \n",
        "    lr = 0.002\n",
        "\n",
        "    # Create optimizers\n",
        "    optimizer = optim.Adam(rnnlm.parameters(), lr)\n",
        "\n",
        "    # loss function\n",
        "    criterion = nn.CrossEntropyLoss()\n",
        "\n",
        "    model_loss = []\n",
        "    \n",
        "    for epoch in range(num_epochs):\n",
        "      for sentence in corpus:\n",
        "\n",
        "        optimizer.zero_grad()\n",
        "        # init h0\n",
        "        h0 = torch.zeros(1, hidden_size).to(device)\n",
        "\n",
        "        # input sentence\n",
        "        input_sentence = torch.LongTensor(sentence[:-1]).to(device)\n",
        "        \n",
        "        # target sentence\n",
        "        target_sentence = torch.LongTensor(sentence[1:]).to(device)\n",
        "        \n",
        "        # forward \n",
        "        ys, hs = rnnlm(input_sentence, h0)\n",
        "        ys = torch.cat(ys)\n",
        "        loss = criterion(ys, target_sentence)\n",
        "\n",
        "        # backward\n",
        "        loss.backward()\n",
        "\n",
        "        # gradient descent update\n",
        "        optimizer.step()\n",
        "        \n",
        "        count += 1\n",
        "        if (count % print_everywhere == 0):\n",
        "          print('Epoch [{:5d}/{:5d}] | loss: {:6.4f}'.format(epoch+1, num_epochs, loss.item()))\n",
        "          count = 0\n",
        "\n",
        "      model_loss.append(loss.item())\n",
        "\n",
        "    return rnnlm, model_loss"
      ],
      "execution_count": 52,
      "outputs": []
    },
    {
      "cell_type": "code",
      "metadata": {
        "id": "zJsmrfo3hbMP",
        "colab": {
          "base_uri": "https://localhost:8080/"
        },
        "outputId": "dd4cfeff-6ce7-4c3b-e8c5-14645aea90dc"
      },
      "source": [
        "vanila_rnnlm, vanila_rnnlm_loss = train_rnnlm(corpus=corpus2, rnnlm=vanila_rnn)\n",
        "vanila_rnnlm = vanila_rnnlm.to(device)"
      ],
      "execution_count": 53,
      "outputs": [
        {
          "output_type": "stream",
          "name": "stdout",
          "text": [
            "Epoch [    1/   25] | loss: 7.6329\n",
            "Epoch [    1/   25] | loss: 8.1594\n",
            "Epoch [    1/   25] | loss: 8.0024\n",
            "Epoch [    1/   25] | loss: 7.3320\n",
            "Epoch [    1/   25] | loss: 6.6917\n",
            "Epoch [    2/   25] | loss: 6.4327\n",
            "Epoch [    2/   25] | loss: 6.9208\n",
            "Epoch [    2/   25] | loss: 6.4066\n",
            "Epoch [    2/   25] | loss: 6.2132\n",
            "Epoch [    2/   25] | loss: 6.1785\n",
            "Epoch [    3/   25] | loss: 6.2284\n",
            "Epoch [    3/   25] | loss: 6.5570\n",
            "Epoch [    3/   25] | loss: 6.0670\n",
            "Epoch [    3/   25] | loss: 5.7876\n",
            "Epoch [    3/   25] | loss: 5.7901\n",
            "Epoch [    4/   25] | loss: 6.0717\n",
            "Epoch [    4/   25] | loss: 6.2539\n",
            "Epoch [    4/   25] | loss: 5.8142\n",
            "Epoch [    4/   25] | loss: 5.4708\n",
            "Epoch [    4/   25] | loss: 5.4371\n",
            "Epoch [    5/   25] | loss: 5.8687\n",
            "Epoch [    5/   25] | loss: 5.9561\n",
            "Epoch [    5/   25] | loss: 5.5287\n",
            "Epoch [    5/   25] | loss: 5.1750\n",
            "Epoch [    5/   25] | loss: 5.0907\n",
            "Epoch [    6/   25] | loss: 5.5089\n",
            "Epoch [    6/   25] | loss: 5.6260\n",
            "Epoch [    6/   25] | loss: 5.2501\n",
            "Epoch [    6/   25] | loss: 4.8507\n",
            "Epoch [    6/   25] | loss: 4.7596\n",
            "Epoch [    7/   25] | loss: 5.3203\n",
            "Epoch [    7/   25] | loss: 5.2414\n",
            "Epoch [    7/   25] | loss: 4.9242\n",
            "Epoch [    7/   25] | loss: 4.5155\n",
            "Epoch [    7/   25] | loss: 4.4654\n",
            "Epoch [    8/   25] | loss: 4.9653\n",
            "Epoch [    8/   25] | loss: 4.7356\n",
            "Epoch [    8/   25] | loss: 4.6191\n",
            "Epoch [    8/   25] | loss: 4.1101\n",
            "Epoch [    8/   25] | loss: 4.1325\n",
            "Epoch [    9/   25] | loss: 4.4632\n",
            "Epoch [    9/   25] | loss: 4.2990\n",
            "Epoch [    9/   25] | loss: 4.3482\n",
            "Epoch [    9/   25] | loss: 3.7167\n",
            "Epoch [    9/   25] | loss: 3.8187\n",
            "Epoch [   10/   25] | loss: 4.1232\n",
            "Epoch [   10/   25] | loss: 3.9360\n",
            "Epoch [   10/   25] | loss: 4.0605\n",
            "Epoch [   10/   25] | loss: 3.2450\n",
            "Epoch [   10/   25] | loss: 3.5000\n",
            "Epoch [   11/   25] | loss: 3.7851\n",
            "Epoch [   11/   25] | loss: 3.4949\n",
            "Epoch [   11/   25] | loss: 3.7383\n",
            "Epoch [   11/   25] | loss: 2.8915\n",
            "Epoch [   11/   25] | loss: 3.2255\n",
            "Epoch [   12/   25] | loss: 3.5187\n",
            "Epoch [   12/   25] | loss: 3.0917\n",
            "Epoch [   12/   25] | loss: 3.4587\n",
            "Epoch [   12/   25] | loss: 2.6343\n",
            "Epoch [   12/   25] | loss: 2.9531\n",
            "Epoch [   13/   25] | loss: 3.1729\n",
            "Epoch [   13/   25] | loss: 2.7276\n",
            "Epoch [   13/   25] | loss: 3.1904\n",
            "Epoch [   13/   25] | loss: 2.3607\n",
            "Epoch [   13/   25] | loss: 2.7181\n",
            "Epoch [   14/   25] | loss: 2.9361\n",
            "Epoch [   14/   25] | loss: 2.4999\n",
            "Epoch [   14/   25] | loss: 2.9886\n",
            "Epoch [   14/   25] | loss: 2.1010\n",
            "Epoch [   14/   25] | loss: 2.5898\n",
            "Epoch [   15/   25] | loss: 2.9239\n",
            "Epoch [   15/   25] | loss: 2.3058\n",
            "Epoch [   15/   25] | loss: 2.9284\n",
            "Epoch [   15/   25] | loss: 1.9493\n",
            "Epoch [   15/   25] | loss: 2.4540\n",
            "Epoch [   16/   25] | loss: 2.8239\n",
            "Epoch [   16/   25] | loss: 2.1736\n",
            "Epoch [   16/   25] | loss: 2.7627\n",
            "Epoch [   16/   25] | loss: 1.7941\n",
            "Epoch [   16/   25] | loss: 2.3407\n",
            "Epoch [   17/   25] | loss: 2.7715\n",
            "Epoch [   17/   25] | loss: 1.9682\n",
            "Epoch [   17/   25] | loss: 2.6803\n",
            "Epoch [   17/   25] | loss: 1.7802\n",
            "Epoch [   17/   25] | loss: 2.2579\n",
            "Epoch [   18/   25] | loss: 2.6895\n",
            "Epoch [   18/   25] | loss: 1.8258\n",
            "Epoch [   18/   25] | loss: 2.4951\n",
            "Epoch [   18/   25] | loss: 1.5638\n",
            "Epoch [   18/   25] | loss: 2.1282\n",
            "Epoch [   19/   25] | loss: 2.6465\n",
            "Epoch [   19/   25] | loss: 1.5933\n",
            "Epoch [   19/   25] | loss: 2.3634\n",
            "Epoch [   19/   25] | loss: 1.4348\n",
            "Epoch [   19/   25] | loss: 1.9842\n",
            "Epoch [   20/   25] | loss: 2.4834\n",
            "Epoch [   20/   25] | loss: 1.5556\n",
            "Epoch [   20/   25] | loss: 2.3525\n",
            "Epoch [   20/   25] | loss: 1.4516\n",
            "Epoch [   20/   25] | loss: 1.8679\n",
            "Epoch [   21/   25] | loss: 2.4253\n",
            "Epoch [   21/   25] | loss: 1.4090\n",
            "Epoch [   21/   25] | loss: 2.2044\n",
            "Epoch [   21/   25] | loss: 1.3446\n",
            "Epoch [   21/   25] | loss: 1.7787\n",
            "Epoch [   22/   25] | loss: 2.3206\n",
            "Epoch [   22/   25] | loss: 1.6734\n",
            "Epoch [   22/   25] | loss: 2.1016\n",
            "Epoch [   22/   25] | loss: 1.1549\n",
            "Epoch [   22/   25] | loss: 1.7731\n",
            "Epoch [   23/   25] | loss: 2.2143\n",
            "Epoch [   23/   25] | loss: 1.4600\n",
            "Epoch [   23/   25] | loss: 2.1103\n",
            "Epoch [   23/   25] | loss: 1.0638\n",
            "Epoch [   23/   25] | loss: 1.5781\n",
            "Epoch [   24/   25] | loss: 2.0891\n",
            "Epoch [   24/   25] | loss: 1.3517\n",
            "Epoch [   24/   25] | loss: 2.6163\n",
            "Epoch [   24/   25] | loss: 1.2930\n",
            "Epoch [   24/   25] | loss: 1.6472\n",
            "Epoch [   25/   25] | loss: 2.1346\n",
            "Epoch [   25/   25] | loss: 1.1847\n",
            "Epoch [   25/   25] | loss: 2.9671\n",
            "Epoch [   25/   25] | loss: 1.0282\n",
            "Epoch [   25/   25] | loss: 1.5074\n"
          ]
        }
      ]
    },
    {
      "cell_type": "code",
      "metadata": {
        "id": "SbznpvGqONAf",
        "colab": {
          "base_uri": "https://localhost:8080/"
        },
        "outputId": "295fd72b-a221-41d4-fa66-6233e93a3727"
      },
      "source": [
        "fancy_rnnlm, fancy_rnnlm_loss = train_rnnlm(corpus=corpus2, rnnlm=fancy_rnn)\n",
        "fancy_rnnlm = fancy_rnnlm.to(device)"
      ],
      "execution_count": 54,
      "outputs": [
        {
          "output_type": "stream",
          "name": "stdout",
          "text": [
            "Epoch [    1/   25] | loss: 7.7299\n",
            "Epoch [    1/   25] | loss: 7.9052\n",
            "Epoch [    1/   25] | loss: 7.5175\n",
            "Epoch [    1/   25] | loss: 6.9154\n",
            "Epoch [    1/   25] | loss: 6.5246\n",
            "Epoch [    2/   25] | loss: 6.3884\n",
            "Epoch [    2/   25] | loss: 6.4987\n",
            "Epoch [    2/   25] | loss: 5.8850\n",
            "Epoch [    2/   25] | loss: 5.7136\n",
            "Epoch [    2/   25] | loss: 5.8173\n",
            "Epoch [    3/   25] | loss: 6.0454\n",
            "Epoch [    3/   25] | loss: 6.2241\n",
            "Epoch [    3/   25] | loss: 5.4125\n",
            "Epoch [    3/   25] | loss: 5.2079\n",
            "Epoch [    3/   25] | loss: 5.4240\n",
            "Epoch [    4/   25] | loss: 5.6987\n",
            "Epoch [    4/   25] | loss: 5.4587\n",
            "Epoch [    4/   25] | loss: 4.9877\n",
            "Epoch [    4/   25] | loss: 4.7803\n",
            "Epoch [    4/   25] | loss: 4.8924\n",
            "Epoch [    5/   25] | loss: 5.2383\n",
            "Epoch [    5/   25] | loss: 5.0818\n",
            "Epoch [    5/   25] | loss: 5.0021\n",
            "Epoch [    5/   25] | loss: 4.3849\n",
            "Epoch [    5/   25] | loss: 4.4251\n",
            "Epoch [    6/   25] | loss: 4.9488\n",
            "Epoch [    6/   25] | loss: 4.5032\n",
            "Epoch [    6/   25] | loss: 4.5389\n",
            "Epoch [    6/   25] | loss: 4.0811\n",
            "Epoch [    6/   25] | loss: 3.9592\n",
            "Epoch [    7/   25] | loss: 4.9974\n",
            "Epoch [    7/   25] | loss: 4.1353\n",
            "Epoch [    7/   25] | loss: 4.4331\n",
            "Epoch [    7/   25] | loss: 3.4889\n",
            "Epoch [    7/   25] | loss: 3.4970\n",
            "Epoch [    8/   25] | loss: 4.5915\n",
            "Epoch [    8/   25] | loss: 3.6331\n",
            "Epoch [    8/   25] | loss: 4.1328\n",
            "Epoch [    8/   25] | loss: 3.2813\n",
            "Epoch [    8/   25] | loss: 3.2458\n",
            "Epoch [    9/   25] | loss: 4.5209\n",
            "Epoch [    9/   25] | loss: 3.1091\n",
            "Epoch [    9/   25] | loss: 3.8226\n",
            "Epoch [    9/   25] | loss: 3.0466\n",
            "Epoch [    9/   25] | loss: 3.0838\n",
            "Epoch [   10/   25] | loss: 4.3292\n",
            "Epoch [   10/   25] | loss: 2.6393\n",
            "Epoch [   10/   25] | loss: 3.3218\n",
            "Epoch [   10/   25] | loss: 2.8931\n",
            "Epoch [   10/   25] | loss: 2.7021\n",
            "Epoch [   11/   25] | loss: 3.8640\n",
            "Epoch [   11/   25] | loss: 2.7560\n",
            "Epoch [   11/   25] | loss: 3.1980\n",
            "Epoch [   11/   25] | loss: 2.5250\n",
            "Epoch [   11/   25] | loss: 2.6512\n",
            "Epoch [   12/   25] | loss: 3.4437\n",
            "Epoch [   12/   25] | loss: 2.2998\n",
            "Epoch [   12/   25] | loss: 3.0218\n",
            "Epoch [   12/   25] | loss: 2.2952\n",
            "Epoch [   12/   25] | loss: 2.4796\n",
            "Epoch [   13/   25] | loss: 3.3640\n",
            "Epoch [   13/   25] | loss: 2.0213\n",
            "Epoch [   13/   25] | loss: 3.1226\n",
            "Epoch [   13/   25] | loss: 1.9122\n",
            "Epoch [   13/   25] | loss: 2.0661\n",
            "Epoch [   14/   25] | loss: 3.3415\n",
            "Epoch [   14/   25] | loss: 1.7698\n",
            "Epoch [   14/   25] | loss: 2.7669\n",
            "Epoch [   14/   25] | loss: 1.7441\n",
            "Epoch [   14/   25] | loss: 1.9819\n",
            "Epoch [   15/   25] | loss: 3.3383\n",
            "Epoch [   15/   25] | loss: 1.4289\n",
            "Epoch [   15/   25] | loss: 2.6536\n",
            "Epoch [   15/   25] | loss: 1.6469\n",
            "Epoch [   15/   25] | loss: 1.7383\n",
            "Epoch [   16/   25] | loss: 3.4042\n",
            "Epoch [   16/   25] | loss: 1.3193\n",
            "Epoch [   16/   25] | loss: 2.5286\n",
            "Epoch [   16/   25] | loss: 1.5661\n",
            "Epoch [   16/   25] | loss: 1.6084\n",
            "Epoch [   17/   25] | loss: 3.0075\n",
            "Epoch [   17/   25] | loss: 1.5417\n",
            "Epoch [   17/   25] | loss: 2.6714\n",
            "Epoch [   17/   25] | loss: 1.2984\n",
            "Epoch [   17/   25] | loss: 1.2865\n",
            "Epoch [   18/   25] | loss: 3.1427\n",
            "Epoch [   18/   25] | loss: 1.2869\n",
            "Epoch [   18/   25] | loss: 2.3726\n",
            "Epoch [   18/   25] | loss: 1.2966\n",
            "Epoch [   18/   25] | loss: 1.3244\n",
            "Epoch [   19/   25] | loss: 2.6739\n",
            "Epoch [   19/   25] | loss: 1.2179\n",
            "Epoch [   19/   25] | loss: 1.9745\n",
            "Epoch [   19/   25] | loss: 1.0475\n",
            "Epoch [   19/   25] | loss: 1.0497\n",
            "Epoch [   20/   25] | loss: 2.7029\n",
            "Epoch [   20/   25] | loss: 1.4763\n",
            "Epoch [   20/   25] | loss: 2.0598\n",
            "Epoch [   20/   25] | loss: 0.8823\n",
            "Epoch [   20/   25] | loss: 1.1180\n",
            "Epoch [   21/   25] | loss: 2.2824\n",
            "Epoch [   21/   25] | loss: 1.0973\n",
            "Epoch [   21/   25] | loss: 1.8239\n",
            "Epoch [   21/   25] | loss: 0.6523\n",
            "Epoch [   21/   25] | loss: 0.8694\n",
            "Epoch [   22/   25] | loss: 2.1309\n",
            "Epoch [   22/   25] | loss: 0.9592\n",
            "Epoch [   22/   25] | loss: 1.5586\n",
            "Epoch [   22/   25] | loss: 0.7556\n",
            "Epoch [   22/   25] | loss: 0.6711\n",
            "Epoch [   23/   25] | loss: 1.9852\n",
            "Epoch [   23/   25] | loss: 0.9745\n",
            "Epoch [   23/   25] | loss: 1.5570\n",
            "Epoch [   23/   25] | loss: 0.6064\n",
            "Epoch [   23/   25] | loss: 0.8443\n",
            "Epoch [   24/   25] | loss: 1.9590\n",
            "Epoch [   24/   25] | loss: 0.7037\n",
            "Epoch [   24/   25] | loss: 1.7988\n",
            "Epoch [   24/   25] | loss: 0.4915\n",
            "Epoch [   24/   25] | loss: 0.6281\n",
            "Epoch [   25/   25] | loss: 1.8844\n",
            "Epoch [   25/   25] | loss: 0.6916\n",
            "Epoch [   25/   25] | loss: 1.4997\n",
            "Epoch [   25/   25] | loss: 0.5367\n",
            "Epoch [   25/   25] | loss: 0.6773\n"
          ]
        }
      ]
    },
    {
      "cell_type": "code",
      "metadata": {
        "id": "BBIXr8G-QX5K",
        "colab": {
          "base_uri": "https://localhost:8080/",
          "height": 298
        },
        "outputId": "6e4fbe6d-4efb-422f-d0f1-28e602576374"
      },
      "source": [
        "fig, ax = plt.subplots()\n",
        "vanila_rnnlm_loss = np.array(vanila_rnnlm_loss)\n",
        "fancy_rnnlm_loss = np.array(fancy_rnnlm_loss)\n",
        "plt.plot(vanila_rnnlm_loss, label='RNN')\n",
        "plt.plot(fancy_rnnlm_loss, label='FancyRNN')\n",
        "plt.title(\"Training Losses\")\n",
        "plt.legend()"
      ],
      "execution_count": 55,
      "outputs": [
        {
          "output_type": "execute_result",
          "data": {
            "text/plain": [
              "<matplotlib.legend.Legend at 0x7f8ab2a2ef50>"
            ]
          },
          "metadata": {},
          "execution_count": 55
        },
        {
          "output_type": "display_data",
          "data": {
            "image/png": "[encoded data removed]",
            "text/plain": [
              "<Figure size 432x288 with 1 Axes>"
            ]
          },
          "metadata": {
            "needs_background": "light"
          }
        }
      ]
    },
    {
      "cell_type": "markdown",
      "metadata": {
        "id": "xkStLG4MhbMQ"
      },
      "source": [
        "### Generating new text with RNNLM\n",
        "Write the code to generate new text segments from the RNNLM. Produce several outputs from both VanilaRNN and FancyRNN to compare the quality of 2 models."
      ]
    },
    {
      "cell_type": "code",
      "metadata": {
        "id": "B-7yqNaohbMQ"
      },
      "source": [
        "def generate_text(rnnlm, seed_text, length, **params):\n",
        "    \"\"\"\n",
        "    Params:\n",
        "    rnnlm: the language model\n",
        "    seed_text: a string of initial text\n",
        "    length: the length of the generated text\n",
        "    params: other params\n",
        "    \"\"\"\n",
        "    seed_text = seed_text.lower().split() # ['students', 'open', 'their', 'bag']\n",
        "\n",
        "    # translate words to id\n",
        "    sentence_id = []\n",
        "    for word in seed_text:\n",
        "      sentence_id.append(word2id[word])    # ['123', '435', '135', '14']\n",
        "    input_tensor = torch.LongTensor(sentence_id).to(device)\n",
        "\n",
        "    # put seed_text through the language model\n",
        "    for i in range(length):\n",
        "      h0 = torch.zeros(1, hidden_size).to(device)\n",
        "      output_text, hs = rnnlm(input_tensor, h0)\n",
        "      output_text = output_text[-1]\n",
        "      output_text = torch.squeeze(output_text)\n",
        "\n",
        "      # take the word with the highest probability\n",
        "      argmax_id = torch.argmax(output_text).item()\n",
        "      sentence_id.append(argmax_id)            # ['123', '435', '135', '14', '78']\n",
        "      input_tensor = torch.LongTensor(sentence_id).to(device)\n",
        "\n",
        "    # translate id to words\n",
        "    output_sentence = []\n",
        "    for id in sentence_id:\n",
        "      output_sentence.append(id2word[id])\n",
        "    output_sentence = ' '.join(output_sentence)\n",
        "\n",
        "    return output_sentence"
      ],
      "execution_count": null,
      "outputs": []
    },
    {
      "cell_type": "code",
      "metadata": {
        "id": "D2SbpTF0hbMR"
      },
      "source": [
        "seed_text = input('Enter your initial text: ')\n",
        "# output_text = generate_text(rnnlm=vanila_rnnlm, seed_text=seed_text, length=100)\n",
        "output_text = generate_text(rnnlm=fancy_rnnlm, seed_text=seed_text, length=100)\n",
        "print('{:<25}{:<30}'.format('Output sentence: ', output_text))"
      ],
      "execution_count": null,
      "outputs": []
    },
    {
      "cell_type": "code",
      "metadata": {
        "id": "k-PRkw_TkSUH"
      },
      "source": [
        "# Test with sentences in the corpus\n",
        "corpus_id = 52       # [0, corpus_size]\n",
        "seed_length = 10     # [1, sentence_length]\n",
        "output_length = 20\n",
        "seed_text = corpus[corpus_id].split()\n",
        "seed_text = seed_text[:seed_length]\n",
        "seed_text = ' '.join(seed_text)\n",
        "\n",
        "output_text = generate_text(rnnlm=vanila_rnnlm, seed_text=seed_text, length=output_length)\n",
        "output_text = generate_text(rnnlm=fancy_rnnlm, seed_text=seed_text, length=output_length)\n",
        "\n",
        "print('{:<20}{:<30}'.format('True sentence: ', corpus[corpus_id]))\n",
        "print('{:<20}{:<30}'.format('Output sentence: ', output_text))\n",
        "print('{:<20}{:<30}'.format('Output sentence: ', output_text))"
      ],
      "execution_count": null,
      "outputs": []
    },
    {
      "cell_type": "markdown",
      "metadata": {
        "id": "hbyfxhT9hbMR"
      },
      "source": [
        "### Perplexity (+2 bonus points)\n",
        "Compute the perplexity of the models. The lower the perplexity, the higher your score."
      ]
    },
    {
      "cell_type": "code",
      "metadata": {
        "id": "NfIUjATxhbMR"
      },
      "source": [
        "def perplexity(rnnlm, corpus):\n",
        "    pass"
      ],
      "execution_count": null,
      "outputs": []
    },
    {
      "cell_type": "code",
      "metadata": {
        "id": "VeMBIuM1hbMR"
      },
      "source": [
        "# perp = perplexity(rnnlm=rnnlm, corpus=wiki_corpus_test)\n",
        "# print(perp)"
      ],
      "execution_count": null,
      "outputs": []
    },
    {
      "cell_type": "markdown",
      "metadata": {
        "id": "mUnAS3GChbMS"
      },
      "source": [
        "## Word Embedding (1 point + 1 bonus point)\n",
        "\n",
        "Now you have trained your RNNLM, the `torch.nn.Embedding` layer in your model stores the embeddings of words in the dictionary. You can use dimensionality reduction algorithms such as PCA and TSNE to visualize the word embeddings.\n",
        "Produce a 2D plot of 100 to 1000 words and write a short analysis of the plot (e.g. the clusters of words with similar meaning, arithmetic operations you can apply on these words)."
      ]
    },
    {
      "cell_type": "code",
      "metadata": {
        "id": "7bPo9Z4ohbMS"
      },
      "source": [
        "import pandas as pd\n",
        "from sklearn.manifold import TSNE\n",
        "import plotly.graph_objects as go"
      ],
      "execution_count": null,
      "outputs": []
    },
    {
      "cell_type": "code",
      "metadata": {
        "id": "oGyYEutcoF-E"
      },
      "source": [
        "word_embedding = vanila_rnn.embeddings\n",
        "vocab = vocabulary\n",
        "print(word_embedding)\n",
        "print(len(vocab))"
      ],
      "execution_count": null,
      "outputs": []
    },
    {
      "cell_type": "code",
      "metadata": {
        "id": "v3IQZZ27s4CC"
      },
      "source": [
        "word_embedding = (word_embedding.cpu().weight).detach().numpy()\n",
        "word_embedding"
      ],
      "execution_count": null,
      "outputs": []
    }
  ]
}